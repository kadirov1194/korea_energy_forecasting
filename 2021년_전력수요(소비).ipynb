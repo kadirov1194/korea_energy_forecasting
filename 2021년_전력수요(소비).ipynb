{
  "nbformat": 4,
  "nbformat_minor": 0,
  "metadata": {
    "colab": {
      "private_outputs": true,
      "provenance": [],
      "authorship_tag": "ABX9TyPrIsNADTB57Hs7gehIQ+cG",
      "include_colab_link": true
    },
    "kernelspec": {
      "name": "python3",
      "display_name": "Python 3"
    },
    "language_info": {
      "name": "python"
    }
  },
  "cells": [
    {
      "cell_type": "markdown",
      "metadata": {
        "id": "view-in-github",
        "colab_type": "text"
      },
      "source": [
        "<a href=\"https://colab.research.google.com/github/kadirov1194/korea_energy_forecasting/blob/main/2021%EB%85%84_%EC%A0%84%EB%A0%A5%EC%88%98%EC%9A%94(%EC%86%8C%EB%B9%84).ipynb\" target=\"_parent\"><img src=\"https://colab.research.google.com/assets/colab-badge.svg\" alt=\"Open In Colab\"/></a>"
      ]
    },
    {
      "cell_type": "markdown",
      "source": [
        "데이터 : 전력거래소 시간대별 수요량 데이터, 연료원별 거래량 데이터 활용 기간 : 2021년"
      ],
      "metadata": {
        "id": "afjz5d7YrvKK"
      }
    },
    {
      "cell_type": "code",
      "execution_count": null,
      "metadata": {
        "id": "CYJiZbuurUqZ"
      },
      "outputs": [],
      "source": [
        "import numpy as np\n",
        "import pandas as pd\n",
        "from datetime import datetime, date\n",
        "import datetime\n",
        "\n",
        "import matplotlib.pyplot as plt\n",
        "import seaborn as sns"
      ]
    },
    {
      "cell_type": "code",
      "source": [
        "plt.rcParams['figure.figsize'] = (14, 9)\n",
        "plt.rcParams['font.family'] = 'Malgun Gothic'\n",
        "plt.rcParams['font.size'] = 12\n",
        "plt.rcParams['axes.unicode_minus']"
      ],
      "metadata": {
        "id": "1GkyXZXNr0ht"
      },
      "execution_count": null,
      "outputs": []
    },
    {
      "cell_type": "code",
      "source": [
        "from google.colab import drive  # Mount to Google Colab/ MyDrive/ Colab\n",
        "drive.mount('/content/drive')"
      ],
      "metadata": {
        "id": "x0vkaA7Gr4tR"
      },
      "execution_count": null,
      "outputs": []
    },
    {
      "cell_type": "code",
      "source": [
        "# (2021년) 에너지원별 누적 그래프\n",
        "def energy_type_stack():\n",
        "    data = pd.read_excel('/content/drive/MyDrive/국가 전력소비/한국전력거래소_연료원별 전력거래량_20220430.xlsx')\n",
        "    # [행 : 거래시간, 열 : 연료원]으로 변환\n",
        "    table = pd.pivot_table(data, values='전력거래량', index='거래시간', columns='연료원')\n",
        "\n",
        "    temp_col = ['원자력', '유연탄', 'LNG', '무연탄', 'IGCC',  'LPG', '가스압', '경유', '기타', '매립가스',  '바이오가스',\n",
        "     '바이오매스', '바이오중유', '부생가스', '소수력', '수력', '양수', '연료전지',   '중유', '태양광', '폐기물', '풍력', '해양에너지']\n",
        "    table = table[temp_col] # 거래량 비중이 높은 에너지원별로 재정렬 (상위 : 원전, 유언탄, LNG까지만)\n",
        "\n",
        "    table.plot(kind='area', stacked=True) # 누적 그래프\n",
        "    plt.grid()\n",
        "    plt.ylabel('평균 전력거래량(MWh)')\n",
        "    plt.title('시간대별 에너지원별 평균 전력거래량(MWh)')\n",
        "    plt.show()"
      ],
      "metadata": {
        "id": "gZiixSB3r_ID"
      },
      "execution_count": null,
      "outputs": []
    },
    {
      "cell_type": "code",
      "source": [
        "energy_type_stack()"
      ],
      "metadata": {
        "id": "1EXE65VOsIE3"
      },
      "execution_count": null,
      "outputs": []
    },
    {
      "cell_type": "code",
      "source": [
        "df = pd.read_excel('/content/drive/MyDrive/국가 전력소비/한국전력거래소_시간별 전력수요량_20211231.xlsx', index_col=[0], parse_dates=True)\n",
        "df"
      ],
      "metadata": {
        "id": "di3aV8ZVsKC4"
      },
      "execution_count": null,
      "outputs": []
    },
    {
      "cell_type": "code",
      "source": [
        "# (2021년) 시간대별 전력피크 횟수 계산\n",
        "def count_peak_month_2021(data):\n",
        "    data = data['2021'] # 2021년만 선택\n",
        "    data = data.idxmax(axis=1) # 하루 중 최고값을 기록한 시간을 추출\n",
        "    data = data.to_frame()\n",
        "    data['month'] = data.index.month\n",
        "    data.columns = ['peak_hour', 'month']\n",
        "    #print(data)\n",
        "\n",
        "    total = pd.DataFrame(index=data.columns)\n",
        "\n",
        "    for idx in data['month'].unique():\n",
        "        month = data[data['month'] == idx] # 월별 데이터\n",
        "\n",
        "        peak_hour = month['peak_hour'].value_counts() # 'peak' 컬럼에 있는 값별 count\n",
        "        peak_hour = pd.DataFrame(peak_hour)\n",
        "\n",
        "        total = pd.concat([total, peak_hour], axis=1) # 월별로 계속 결합\n",
        "\n",
        "    total.columns = data['month'].unique() # 전체 월을 컬럼으로 변경\n",
        "    total = total.fillna(0) # 피크가 기록되지 않은 시간대의 Nan 값을 0으로 변경\n",
        "    total = total.T.drop(['month', 'peak_hour'], axis=1) # 행/열 전환\n",
        "    total = total.stack().reset_index() # 열('시간')을 행으로 전환하고, idnex를 reset\n",
        "    total.columns = ['month', 'hour', 'count'] # 컬럼명 변경\n",
        "\n",
        "    sns.barplot(data=total, x='month', y='count', hue='hour') # 멀티 막대 그래프 그리기\n",
        "\n",
        "    plt.grid()\n",
        "    plt.ylabel('시간대별 전력피크 횟수')\n",
        "    plt.title('2021년 월별/시간대별 전력피크 횟수')\n",
        "    plt.show()"
      ],
      "metadata": {
        "id": "TV2bkkkgElLB"
      },
      "execution_count": null,
      "outputs": []
    },
    {
      "cell_type": "code",
      "source": [
        "count_peak_month_2021(df.copy())"
      ],
      "metadata": {
        "id": "0McERCfCEnoD"
      },
      "execution_count": null,
      "outputs": []
    },
    {
      "cell_type": "code",
      "source": [
        "# (2021년) 부하율 그래프 그리는 함수(일반 라인, 월별 4분위)\n",
        "def load_factor(data):\n",
        "    data = data['2021'].copy() # 2021년 데이터만 추출\n",
        "    data['LF'] = data.mean(axis=1) / data.max(axis=1) * 100 # 일별 부하율 산정\n",
        "\n",
        "    data['LF'].plot() # 부하율 라인그래프 그리기\n",
        "    plt.grid()\n",
        "    plt.ylabel('부하율(%)')\n",
        "    plt.title('2021년도 일별 부하율(%)')\n",
        "    plt.show()\n",
        "\n",
        "    data['month'] = data.index.month\n",
        "    data4 = data[['LF', 'month']]\n",
        "    #print(data4.head())\n",
        "\n",
        "    data4.boxplot(column='LF', by='month') # 월별로 부하율을 4분위 그래프 그리기\n",
        "    plt.ylabel('부하율(%)')\n",
        "    plt.title('부하율(%) 4분위 그래프')\n",
        "    plt.show()"
      ],
      "metadata": {
        "id": "F7LKWpqQEpV0"
      },
      "execution_count": null,
      "outputs": []
    },
    {
      "cell_type": "code",
      "source": [
        "load_factor(df.copy())"
      ],
      "metadata": {
        "id": "9384N5ZsEvCb"
      },
      "execution_count": null,
      "outputs": []
    },
    {
      "cell_type": "code",
      "source": [
        "# (2021년) 연간 시간대별, 요일별, 주별 그래프 그리기\n",
        "def EDA_2021(data):\n",
        "    data = data['2021'].copy()  # 2021년 데이터만 추출\n",
        "    stack_df = data.stack()\n",
        "\n",
        "    stack_df = stack_df.reset_index()\n",
        "    stack_df.columns = ['date', 'hour', 'pcon']\n",
        "    stack_df['dayofweek'] = stack_df['date'].dt.dayofweek\n",
        "    stack_df['weekofyear'] = stack_df['date'].dt.weekofyear\n",
        "    #print(stack_df)\n",
        "\n",
        "    sns.pairplot(stack_df, x_vars=['hour'], y_vars='pcon', hue='hour', height=5, plot_kws={'alpha':0.1, 'linewidth':0})\n",
        "    plt.ylabel('전력소비량(MWh)')\n",
        "    plt.suptitle('연간 시간대별 전력소비량(MWh) 분포')\n",
        "    plt.grid()\n",
        "    plt.show()\n",
        "\n",
        "    sns.pairplot(stack_df, x_vars=['dayofweek'], y_vars='pcon', hue='hour', height=5, plot_kws={'alpha': 0.1, 'linewidth': 0})\n",
        "    plt.ylabel('전력소비량(MWh)')\n",
        "    plt.suptitle('연간 요일별/시간대별 전력소비량(MWh) 분포(월, 화, 수, 목, 금, 토, 일)')\n",
        "    plt.grid()\n",
        "    plt.show()\n",
        "\n",
        "    sns.pairplot(stack_df, x_vars=['weekofyear'], y_vars='pcon', hue='hour', height=5, plot_kws={'alpha': 0.1, 'linewidth': 0})\n",
        "    plt.ylabel('전력소비량(MWh)')\n",
        "    plt.suptitle('연간 주별/시간대별 전력소비량(MWh) 분포')\n",
        "    plt.grid()\n",
        "    plt.show()"
      ],
      "metadata": {
        "id": "MJlsBcVVEwVZ"
      },
      "execution_count": null,
      "outputs": []
    },
    {
      "cell_type": "code",
      "source": [
        "EDA_2021(df.copy())"
      ],
      "metadata": {
        "id": "BjiXpX9pE3HN"
      },
      "execution_count": null,
      "outputs": []
    },
    {
      "cell_type": "code",
      "source": [
        "# (2021년) 일, 월 전력소비량\n",
        "def simple_EDA_2021(data):\n",
        "    df_day = data['2021'].copy() # 2021년 데이터 추출\n",
        "    df_day['sum'] = df_day.sum(axis=1) # 일별 전력소비량 합계 구함\n",
        "\n",
        "    df_day['sum'].plot()\n",
        "    plt.grid()\n",
        "    plt.ylabel('전력소비량(MWh)')\n",
        "    plt.title('2021년 일별 전력소비량(MWh)')\n",
        "    plt.show()\n",
        "\n",
        "    df_month = data['2021'].copy() # 2021년 데이터 추출\n",
        "    df_month['sum'] = df_month.sum(axis=1) # 일별 전력소비량 합계 구함\n",
        "    df_month['month'] = df_month.index.month\n",
        "    grp_month = df_month.groupby('month')['sum'].sum()/1000 # 월별 전력소비량 합계 구함\n",
        "\n",
        "    grp_month.plot(kind='bar')\n",
        "    plt.grid()\n",
        "    plt.ylabel('전력소비량(GWh)')\n",
        "    plt.title('2021년 월별 전력소비량(GWh)')\n",
        "    plt.show()"
      ],
      "metadata": {
        "id": "7AX64IpzE44a"
      },
      "execution_count": null,
      "outputs": []
    },
    {
      "cell_type": "code",
      "source": [
        "simple_EDA_2021(df.copy())"
      ],
      "metadata": {
        "id": "4Ipq1jO4FLfA"
      },
      "execution_count": null,
      "outputs": []
    },
    {
      "cell_type": "code",
      "source": [],
      "metadata": {
        "id": "XvzqbZpAFMvs"
      },
      "execution_count": null,
      "outputs": []
    }
  ]
}
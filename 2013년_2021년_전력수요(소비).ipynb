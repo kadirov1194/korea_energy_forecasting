{
  "nbformat": 4,
  "nbformat_minor": 0,
  "metadata": {
    "colab": {
      "private_outputs": true,
      "provenance": [],
      "authorship_tag": "ABX9TyN7OyD39ALl8pdfBZj7PX4i",
      "include_colab_link": true
    },
    "kernelspec": {
      "name": "python3",
      "display_name": "Python 3"
    },
    "language_info": {
      "name": "python"
    }
  },
  "cells": [
    {
      "cell_type": "markdown",
      "metadata": {
        "id": "view-in-github",
        "colab_type": "text"
      },
      "source": [
        "<a href=\"https://colab.research.google.com/github/kadirov1194/korea_energy_forecasting/blob/main/2013%EB%85%84_2021%EB%85%84_%EC%A0%84%EB%A0%A5%EC%88%98%EC%9A%94(%EC%86%8C%EB%B9%84).ipynb\" target=\"_parent\"><img src=\"https://colab.research.google.com/assets/colab-badge.svg\" alt=\"Open In Colab\"/></a>"
      ]
    },
    {
      "cell_type": "markdown",
      "source": [
        "데이터 : 전력거래소 시간대별 수요량 데이터 활용 기간 : 2013-2021년"
      ],
      "metadata": {
        "id": "ztSqMbb_F7ni"
      }
    },
    {
      "cell_type": "code",
      "execution_count": null,
      "metadata": {
        "id": "rqnUPjdPF1Uw"
      },
      "outputs": [],
      "source": [
        "import numpy as np\n",
        "import pandas as pd\n",
        "from datetime import datetime, date\n",
        "import datetime\n",
        "\n",
        "import matplotlib.pyplot as plt\n",
        "import seaborn as sns"
      ]
    },
    {
      "cell_type": "code",
      "source": [
        "plt.rcParams['figure.figsize'] = (14, 9)\n",
        "plt.rcParams['font.family'] = 'Malgun Gothic'\n",
        "plt.rcParams['font.size'] = 12\n",
        "plt.rcParams['axes.unicode_minus']"
      ],
      "metadata": {
        "id": "90HO3EXaGAvO"
      },
      "execution_count": null,
      "outputs": []
    },
    {
      "cell_type": "code",
      "source": [
        "from google.colab import drive  # Mount to Google Colab/ MyDrive/ Colab\n",
        "drive.mount('/content/drive')"
      ],
      "metadata": {
        "id": "nOTyjmdjGJ75"
      },
      "execution_count": null,
      "outputs": []
    },
    {
      "cell_type": "code",
      "source": [
        "df = pd.read_excel('/content/drive/MyDrive/국가 전력소비/한국전력거래소_시간별 전력수요량_20211231.xlsx', index_col=[0], parse_dates=True)\n",
        "df"
      ],
      "metadata": {
        "id": "yB0xRQHQGDG_"
      },
      "execution_count": null,
      "outputs": []
    },
    {
      "cell_type": "code",
      "source": [
        "# (전체) 2013-2021년 시간대별 부하곡선, 부하율\n",
        "def series_year_profit(data, type): # (0 비정규화(소비량), 1 정규화(부하률)\n",
        "    for idx in data.index.year.unique(): # 2013년부터 2021년까지 순차 반복\n",
        "        df_pf = data[str(idx)]\n",
        "\n",
        "        if type == 0:\n",
        "            df_pf.mean().plot(label=idx)\n",
        "            plt.ylabel('전력수요(MWh)')\n",
        "            plt.title('연도별(2013-2021년) 시간대별 평균 전력수요(발전단) (MWh)')\n",
        "\n",
        "        if type == 1:\n",
        "            df_pf = df_pf / df_pf.max(axis=0).max() *100  # 연 최대값으로 나누어 정규화\n",
        "            df_pf.mean().plot(label=idx)\n",
        "            plt.ylabel('부하율(%)')\n",
        "            plt.title('연도별(2013-2021년) 시간대별 평균 부하율(발전단)')\n",
        "\n",
        "    plt.legend()\n",
        "    plt.grid()\n",
        "    plt.show()"
      ],
      "metadata": {
        "id": "ya2bleuPGZkJ"
      },
      "execution_count": null,
      "outputs": []
    },
    {
      "cell_type": "code",
      "source": [
        "series_year_profit(df.copy(), 0) # 비정규화(소비량)"
      ],
      "metadata": {
        "id": "S2ojbsHhGbrE"
      },
      "execution_count": null,
      "outputs": []
    },
    {
      "cell_type": "code",
      "source": [
        "series_year_profit(df.copy(), 1) # 정규화(부하율)"
      ],
      "metadata": {
        "id": "4uiSnvBMGdMN"
      },
      "execution_count": null,
      "outputs": []
    },
    {
      "cell_type": "code",
      "source": [
        "# (전체) 2013-2021년 일별 전력소비량 라인 그래프\n",
        "def multi_year_daily_consumption(multi):\n",
        "    multi['sum'] = multi.sum(axis=1) / 1000 # MWh를 GWh로 변경\n",
        "    multi['sum'].plot() # 일일 전력소비량 그리기\n",
        "    plt.grid()\n",
        "    plt.ylabel('전력수요(GWh)')\n",
        "    plt.title('2013-2021년 일일 전력수요(GWh)')\n",
        "    plt.show()"
      ],
      "metadata": {
        "id": "CQN8TKA0GiGR"
      },
      "execution_count": null,
      "outputs": []
    },
    {
      "cell_type": "code",
      "source": [
        "multi_year_daily_consumption(df.copy())"
      ],
      "metadata": {
        "id": "VeNF17ahGkYa"
      },
      "execution_count": null,
      "outputs": []
    },
    {
      "cell_type": "code",
      "source": [
        "# (전체) 2013-2021년 월별 막대그래프\n",
        "def multi_year_month_consumption(multi):\n",
        "    multi['sum'] = multi.sum(axis=1) / 1000 # MWh를 GWh로 변경\n",
        "\n",
        "    multi['year'] = multi.index.year # 연도 컬럼 생성\n",
        "    multi['month'] = multi.index.month # 월 컬럼 생성\n",
        "    #print(multi)\n",
        "    grp_multi = multi.groupby(['year', 'month'])['sum'].sum() # 연도, 월별 합계 계산\n",
        "    grp_multi = pd.DataFrame(grp_multi)\n",
        "    grp_multi = grp_multi.reset_index()\n",
        "\n",
        "    sns.barplot(data=grp_multi, x='month', y='sum', hue='year') # 멀티 막대 그래프 그리기\n",
        "\n",
        "    plt.grid()\n",
        "    plt.ylabel('전력수요(GWh)')\n",
        "    plt.title('2013-2021년 월별 전력수요(GWh)')\n",
        "    plt.show()"
      ],
      "metadata": {
        "id": "f7X30ed8GmP7"
      },
      "execution_count": null,
      "outputs": []
    },
    {
      "cell_type": "code",
      "source": [
        "multi_year_month_consumption(df.copy())"
      ],
      "metadata": {
        "id": "zfRtN0PsGo9l"
      },
      "execution_count": null,
      "outputs": []
    },
    {
      "cell_type": "code",
      "source": [
        "# (전체) 시간대별 전력피크 횟수 계산\n",
        "def count_peak_month(data):\n",
        "    data['year'] = data.index.year\n",
        "    data['peak'] = data.idxmax(axis=1)  # 하루 중 최고값을 기록한 시간을 추출\n",
        "\n",
        "    total = pd.DataFrame(index=data.columns)\n",
        "\n",
        "    for idx in data['year'].unique():\n",
        "        year = data[data['year'] == idx]  # 연도별 데이터\n",
        "\n",
        "        peak_hour = year['peak'].value_counts()  # 'peak' 컬럼에 있는 값별 count\n",
        "        peak_hour = pd.DataFrame(peak_hour)\n",
        "\n",
        "        total = pd.concat([total, peak_hour], axis=1)  # 연도별로 계속 결합\n",
        "\n",
        "    total.columns = data['year'].unique()  # 전체 연도를 컬럼으로 변경\n",
        "    total = total.fillna(0)  # 피크가 기록되지 않은 시간대의 Nan 값을 0으로 변경\n",
        "    total = total.T.drop(['year', 'peak'], axis=1)  # 행/열 전환\n",
        "    total = total.stack().reset_index()  # 열('시간')을 행으로 전환하고, idnex를 reset\n",
        "    total.columns = ['year', 'hour', 'count']  # 컬럼명 변경\n",
        "\n",
        "    sns.barplot(data=total, x='hour', y='count', hue='year')  # 멀티 막대 그래프 그리기\n",
        "\n",
        "    plt.grid()\n",
        "    plt.ylabel('시간대별 전력피크 횟수')\n",
        "    plt.title('2013-2021년 시간대별 전력피크 횟수')\n",
        "    plt.show()"
      ],
      "metadata": {
        "id": "HSNfkvQWGqbH"
      },
      "execution_count": null,
      "outputs": []
    },
    {
      "cell_type": "code",
      "source": [
        "count_peak_month(df.copy())"
      ],
      "metadata": {
        "id": "tvYIJTw6GuZX"
      },
      "execution_count": null,
      "outputs": []
    },
    {
      "cell_type": "code",
      "source": [
        "# (전체) LDC(Load Duration Curve) 그래프\n",
        "def ldc(df_ldc):\n",
        "    df_ldc = df_ldc.stack()\n",
        "    df_ldc = df_ldc.reset_index()\n",
        "    df_ldc.columns = ['date', 'hour', 'pcon']\n",
        "    df_ldc['year'] = df_ldc.date.dt.year\n",
        "\n",
        "    ldc = pd.DataFrame()\n",
        "    for idx in df_ldc['year'].unique():\n",
        "        temp = df_ldc[df_ldc['year'] == idx] # 해당년도 데이터\n",
        "        ldc[idx] = temp['pcon'].sort_values(ascending=False).reset_index(drop=True)\n",
        "        # 전력소비량을 sort_values로 정렬, reset_index(drop=True)로 index 삭제해 0, 1, 3 순서 설정\n",
        "\n",
        "    ldc.plot()\n",
        "    plt.grid()\n",
        "    plt.legend()\n",
        "    plt.ylabel('전력소비량(MWh)')\n",
        "    plt.title('LDC(Load Duration Curve) 그래프')\n",
        "    plt.show()"
      ],
      "metadata": {
        "id": "A5ttjJCmGwQf"
      },
      "execution_count": null,
      "outputs": []
    },
    {
      "cell_type": "code",
      "source": [
        "ldc(df.copy())"
      ],
      "metadata": {
        "id": "FFl2yZ9bGzP6"
      },
      "execution_count": null,
      "outputs": []
    },
    {
      "cell_type": "code",
      "source": [],
      "metadata": {
        "id": "tySEyZrJG1Dc"
      },
      "execution_count": null,
      "outputs": []
    }
  ]
}